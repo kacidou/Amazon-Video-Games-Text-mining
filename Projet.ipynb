{
 "cells": [
  {
   "cell_type": "markdown",
   "metadata": {
    "papermill": {
     "duration": 0.028976,
     "end_time": "2021-04-19T22:45:53.371462",
     "exception": false,
     "start_time": "2021-04-19T22:45:53.342486",
     "status": "completed"
    },
    "tags": []
   },
   "source": [
    "# Projet Data Mining : Text classification"
   ]
  },
  {
   "cell_type": "markdown",
   "metadata": {
    "papermill": {
     "duration": 0.02582,
     "end_time": "2021-04-19T22:45:53.425025",
     "exception": false,
     "start_time": "2021-04-19T22:45:53.399205",
     "status": "completed"
    },
    "tags": []
   },
   "source": [
    "Ce projet consiste à analyser les données de Amazon_Video_Games_Review , extraire les caractéristiques textuelles selon plusieurs méthodes et appliquer des modèles de classification afin de retrouver les notes données pour chaque commentaire.\n",
    "\n",
    "Sommaire général du projet : \n",
    "\n",
    "            1  -  Import et analyse exploratoire des données\n",
    "            2  -  Prétraitement des données :\n",
    "                    \n",
    "                    - Stemming\n",
    "                    - Lemmatisation\n",
    "                    - Removing stop words\n",
    "\n",
    "            3 -  Extraction de caractéristiques du texte avec:\n",
    "                    \n",
    "                    - TF-IDF               \t\n",
    "                    - Word2Vec\n",
    "                \n",
    "\n",
    "\n",
    "            4 -  Modèles de classification\n",
    "                        \n",
    "                        - Stochastic Gradient Descent Classifier\n",
    "                        - KNeighborsClassifier\n",
    "                        - LogisticRegression\n",
    "                        - DecisionTree Classifier\n",
    "                        - LinearSVC\n",
    "                        - BernoulliNB\n",
    "                        - MultinomialNB\n",
    "\n",
    "            5  -  Visualisation\n",
    "                   \n",
    "            6  -  Discussion des résultats\n",
    "            \n",
    "            7  -  Conclusion et perspectives"
   ]
  },
  {
   "cell_type": "markdown",
   "metadata": {
    "papermill": {
     "duration": 0.025168,
     "end_time": "2021-04-19T22:45:53.476746",
     "exception": false,
     "start_time": "2021-04-19T22:45:53.451578",
     "status": "completed"
    },
    "tags": []
   },
   "source": [
    "# Importing libraires"
   ]
  },
  {
   "cell_type": "code",
   "execution_count": 1,
   "metadata": {
    "ExecuteTime": {
     "end_time": "2021-03-05T15:41:15.062671Z",
     "start_time": "2021-03-05T15:41:14.275285Z"
    },
    "execution": {
     "iopub.execute_input": "2021-04-19T22:45:53.538596Z",
     "iopub.status.busy": "2021-04-19T22:45:53.537503Z",
     "iopub.status.idle": "2021-04-19T22:46:01.871729Z",
     "shell.execute_reply": "2021-04-19T22:46:01.870696Z"
    },
    "papermill": {
     "duration": 8.367626,
     "end_time": "2021-04-19T22:46:01.871970",
     "exception": false,
     "start_time": "2021-04-19T22:45:53.504344",
     "status": "completed"
    },
    "tags": []
   },
   "outputs": [],
   "source": [
    "## for data\n",
    "import json\n",
    "import pandas as pd\n",
    "import numpy as np\n",
    "import gzip\n",
    "\n",
    "## for plotting\n",
    "import matplotlib.pyplot as plt\n",
    "import seaborn as sns\n",
    "\n",
    "## for processing\n",
    "import re\n",
    "import nltk as nlp\n",
    "\n",
    "## for bag-of-words\n",
    "from sklearn import feature_extraction, model_selection, naive_bayes, pipeline, manifold, preprocessing,metrics\n",
    "\n",
    "## for explainer\n",
    "from lime import lime_text\n",
    "\n",
    "## for word embedding\n",
    "import gensim\n",
    "import gensim.downloader as gensim_api\n",
    "\n",
    "## for deep learning\n",
    "from tensorflow.keras import models, layers, preprocessing as kprocessing\n",
    "from tensorflow.keras import backend as K\n",
    "\n",
    "## for bert language model\n",
    "import transformers\n",
    "\n",
    "import warnings\n",
    "warnings.filterwarnings('ignore')\n",
    "\n",
    "from IPython.display import clear_output\n",
    "clear_output(wait=True)"
   ]
  },
  {
   "cell_type": "markdown",
   "metadata": {
    "papermill": {
     "duration": 0.025848,
     "end_time": "2021-04-19T22:46:01.925246",
     "exception": false,
     "start_time": "2021-04-19T22:46:01.899398",
     "status": "completed"
    },
    "tags": []
   },
   "source": [
    "# Transforming the dataset\n",
    "L'ensemble de données se trouve dans un fichier json, donc on va d'abord le lire dans une liste de dictionnaires avec json, puis le transformer en un pandas Dataframe."
   ]
  },
  {
   "cell_type": "code",
   "execution_count": 2,
   "metadata": {
    "ExecuteTime": {
     "end_time": "2021-03-05T15:41:31.821849Z",
     "start_time": "2021-03-05T15:41:31.81487Z"
    },
    "execution": {
     "iopub.execute_input": "2021-04-19T22:46:02.148070Z",
     "iopub.status.busy": "2021-04-19T22:46:02.147237Z",
     "iopub.status.idle": "2021-04-19T22:46:32.740963Z",
     "shell.execute_reply": "2021-04-19T22:46:32.740093Z"
    },
    "papermill": {
     "duration": 30.790331,
     "end_time": "2021-04-19T22:46:32.741160",
     "exception": false,
     "start_time": "2021-04-19T22:46:01.950829",
     "status": "completed"
    },
    "tags": []
   },
   "outputs": [
    {
     "name": "stdout",
     "output_type": "stream",
     "text": [
      "--2021-04-19 22:46:02--  http://deepyeti.ucsd.edu/jianmo/amazon/categoryFilesSmall/Video_Games_5.json.gz\r\n",
      "Resolving deepyeti.ucsd.edu (deepyeti.ucsd.edu)... 169.228.63.50\r\n",
      "Connecting to deepyeti.ucsd.edu (deepyeti.ucsd.edu)|169.228.63.50|:80... connected.\r\n",
      "HTTP request sent, awaiting response... 200 OK\r\n",
      "Length: 154050105 (147M) [application/octet-stream]\r\n",
      "Saving to: ‘Video_Games_5.json.gz’\r\n",
      "\r\n",
      "Video_Games_5.json. 100%[===================>] 146.91M  17.0MB/s    in 9.3s    \r\n",
      "\r\n",
      "2021-04-19 22:46:12 (15.8 MB/s) - ‘Video_Games_5.json.gz’ saved [154050105/154050105]\r\n",
      "\r\n"
     ]
    }
   ],
   "source": [
    "# downloading the dataset\n",
    "\n",
    "!wget \"http://deepyeti.ucsd.edu/jianmo/amazon/categoryFilesSmall/Video_Games_5.json.gz\"\n",
    "\n",
    "def parse(path):\n",
    "  g = gzip.open(path, 'rb')\n",
    "  for l in g:\n",
    "    yield json.loads(l)\n",
    "\n",
    "def getDF(path):\n",
    "  i = 0\n",
    "  df = {}\n",
    "  for d in parse(path):\n",
    "    df[i] = d\n",
    "    i += 1\n",
    "  return pd.DataFrame.from_dict(df, orient='index')\n",
    "\n",
    "# transforming the dataset into a dataframe\n",
    "\n",
    "DS = getDF(\"./Video_Games_5.json.gz\")"
   ]
  },
  {
   "cell_type": "code",
   "execution_count": 3,
   "metadata": {
    "execution": {
     "iopub.execute_input": "2021-04-19T22:46:32.849261Z",
     "iopub.status.busy": "2021-04-19T22:46:32.848245Z",
     "iopub.status.idle": "2021-04-19T22:46:32.865763Z",
     "shell.execute_reply": "2021-04-19T22:46:32.865050Z"
    },
    "papermill": {
     "duration": 0.082151,
     "end_time": "2021-04-19T22:46:32.866058",
     "exception": false,
     "start_time": "2021-04-19T22:46:32.783907",
     "status": "completed"
    },
    "tags": []
   },
   "outputs": [
    {
     "data": {
      "text/html": [
       "<div>\n",
       "<style scoped>\n",
       "    .dataframe tbody tr th:only-of-type {\n",
       "        vertical-align: middle;\n",
       "    }\n",
       "\n",
       "    .dataframe tbody tr th {\n",
       "        vertical-align: top;\n",
       "    }\n",
       "\n",
       "    .dataframe thead th {\n",
       "        text-align: right;\n",
       "    }\n",
       "</style>\n",
       "<table border=\"1\" class=\"dataframe\">\n",
       "  <thead>\n",
       "    <tr style=\"text-align: right;\">\n",
       "      <th></th>\n",
       "      <th>overall</th>\n",
       "      <th>verified</th>\n",
       "      <th>reviewTime</th>\n",
       "      <th>reviewerID</th>\n",
       "      <th>asin</th>\n",
       "      <th>reviewerName</th>\n",
       "      <th>reviewText</th>\n",
       "      <th>summary</th>\n",
       "      <th>unixReviewTime</th>\n",
       "      <th>vote</th>\n",
       "      <th>style</th>\n",
       "      <th>image</th>\n",
       "    </tr>\n",
       "  </thead>\n",
       "  <tbody>\n",
       "    <tr>\n",
       "      <th>0</th>\n",
       "      <td>5.0</td>\n",
       "      <td>True</td>\n",
       "      <td>10 17, 2015</td>\n",
       "      <td>A1HP7NVNPFMA4N</td>\n",
       "      <td>0700026657</td>\n",
       "      <td>Ambrosia075</td>\n",
       "      <td>This game is a bit hard to get the hang of, bu...</td>\n",
       "      <td>but when you do it's great.</td>\n",
       "      <td>1445040000</td>\n",
       "      <td>NaN</td>\n",
       "      <td>NaN</td>\n",
       "      <td>NaN</td>\n",
       "    </tr>\n",
       "    <tr>\n",
       "      <th>1</th>\n",
       "      <td>4.0</td>\n",
       "      <td>False</td>\n",
       "      <td>07 27, 2015</td>\n",
       "      <td>A1JGAP0185YJI6</td>\n",
       "      <td>0700026657</td>\n",
       "      <td>travis</td>\n",
       "      <td>I played it a while but it was alright. The st...</td>\n",
       "      <td>But in spite of that it was fun, I liked it</td>\n",
       "      <td>1437955200</td>\n",
       "      <td>NaN</td>\n",
       "      <td>NaN</td>\n",
       "      <td>NaN</td>\n",
       "    </tr>\n",
       "    <tr>\n",
       "      <th>2</th>\n",
       "      <td>3.0</td>\n",
       "      <td>True</td>\n",
       "      <td>02 23, 2015</td>\n",
       "      <td>A1YJWEXHQBWK2B</td>\n",
       "      <td>0700026657</td>\n",
       "      <td>Vincent G. Mezera</td>\n",
       "      <td>ok game.</td>\n",
       "      <td>Three Stars</td>\n",
       "      <td>1424649600</td>\n",
       "      <td>NaN</td>\n",
       "      <td>NaN</td>\n",
       "      <td>NaN</td>\n",
       "    </tr>\n",
       "    <tr>\n",
       "      <th>3</th>\n",
       "      <td>2.0</td>\n",
       "      <td>True</td>\n",
       "      <td>02 20, 2015</td>\n",
       "      <td>A2204E1TH211HT</td>\n",
       "      <td>0700026657</td>\n",
       "      <td>Grandma KR</td>\n",
       "      <td>found the game a bit too complicated, not what...</td>\n",
       "      <td>Two Stars</td>\n",
       "      <td>1424390400</td>\n",
       "      <td>NaN</td>\n",
       "      <td>NaN</td>\n",
       "      <td>NaN</td>\n",
       "    </tr>\n",
       "    <tr>\n",
       "      <th>4</th>\n",
       "      <td>5.0</td>\n",
       "      <td>True</td>\n",
       "      <td>12 25, 2014</td>\n",
       "      <td>A2RF5B5H74JLPE</td>\n",
       "      <td>0700026657</td>\n",
       "      <td>jon</td>\n",
       "      <td>great game, I love it and have played it since...</td>\n",
       "      <td>love this game</td>\n",
       "      <td>1419465600</td>\n",
       "      <td>NaN</td>\n",
       "      <td>NaN</td>\n",
       "      <td>NaN</td>\n",
       "    </tr>\n",
       "  </tbody>\n",
       "</table>\n",
       "</div>"
      ],
      "text/plain": [
       "   overall  verified   reviewTime      reviewerID        asin  \\\n",
       "0      5.0      True  10 17, 2015  A1HP7NVNPFMA4N  0700026657   \n",
       "1      4.0     False  07 27, 2015  A1JGAP0185YJI6  0700026657   \n",
       "2      3.0      True  02 23, 2015  A1YJWEXHQBWK2B  0700026657   \n",
       "3      2.0      True  02 20, 2015  A2204E1TH211HT  0700026657   \n",
       "4      5.0      True  12 25, 2014  A2RF5B5H74JLPE  0700026657   \n",
       "\n",
       "        reviewerName                                         reviewText  \\\n",
       "0        Ambrosia075  This game is a bit hard to get the hang of, bu...   \n",
       "1             travis  I played it a while but it was alright. The st...   \n",
       "2  Vincent G. Mezera                                           ok game.   \n",
       "3         Grandma KR  found the game a bit too complicated, not what...   \n",
       "4                jon  great game, I love it and have played it since...   \n",
       "\n",
       "                                       summary  unixReviewTime vote style  \\\n",
       "0                  but when you do it's great.      1445040000  NaN   NaN   \n",
       "1  But in spite of that it was fun, I liked it      1437955200  NaN   NaN   \n",
       "2                                  Three Stars      1424649600  NaN   NaN   \n",
       "3                                    Two Stars      1424390400  NaN   NaN   \n",
       "4                               love this game      1419465600  NaN   NaN   \n",
       "\n",
       "  image  \n",
       "0   NaN  \n",
       "1   NaN  \n",
       "2   NaN  \n",
       "3   NaN  \n",
       "4   NaN  "
      ]
     },
     "execution_count": 3,
     "metadata": {},
     "output_type": "execute_result"
    }
   ],
   "source": [
    "# display the first five rows of the dataset\n",
    "\n",
    "DS.head()"
   ]
  },
  {
   "cell_type": "markdown",
   "metadata": {
    "papermill": {
     "duration": 0.040108,
     "end_time": "2021-04-19T22:46:32.947820",
     "exception": false,
     "start_time": "2021-04-19T22:46:32.907712",
     "status": "completed"
    },
    "tags": []
   },
   "source": [
    "# Subset of Dataset"
   ]
  },
  {
   "cell_type": "code",
   "execution_count": 4,
   "metadata": {
    "execution": {
     "iopub.execute_input": "2021-04-19T22:46:33.038715Z",
     "iopub.status.busy": "2021-04-19T22:46:33.037122Z",
     "iopub.status.idle": "2021-04-19T22:46:33.133463Z",
     "shell.execute_reply": "2021-04-19T22:46:33.132836Z"
    },
    "papermill": {
     "duration": 0.144936,
     "end_time": "2021-04-19T22:46:33.133614",
     "exception": false,
     "start_time": "2021-04-19T22:46:32.988678",
     "status": "completed"
    },
    "tags": []
   },
   "outputs": [],
   "source": [
    "df = DS.copy()"
   ]
  },
  {
   "cell_type": "markdown",
   "metadata": {
    "papermill": {
     "duration": 0.040355,
     "end_time": "2021-04-19T22:46:33.215866",
     "exception": false,
     "start_time": "2021-04-19T22:46:33.175511",
     "status": "completed"
    },
    "tags": []
   },
   "source": [
    "# Preprocessing"
   ]
  },
  {
   "cell_type": "code",
   "execution_count": 5,
   "metadata": {
    "execution": {
     "iopub.execute_input": "2021-04-19T22:46:33.308471Z",
     "iopub.status.busy": "2021-04-19T22:46:33.307296Z",
     "iopub.status.idle": "2021-04-19T22:46:34.328661Z",
     "shell.execute_reply": "2021-04-19T22:46:34.329597Z"
    },
    "papermill": {
     "duration": 1.073827,
     "end_time": "2021-04-19T22:46:34.329942",
     "exception": false,
     "start_time": "2021-04-19T22:46:33.256115",
     "status": "completed"
    },
    "tags": []
   },
   "outputs": [],
   "source": [
    "# delete all columns except overall and review_Text\n",
    "df.drop(['image','style','vote','reviewerName','verified','reviewTime','reviewerID','asin','summary','unixReviewTime'],inplace=True,axis=1)\n",
    "\n",
    "# rename these 2 columns\n",
    "df.rename(columns={\"overall\": \"score\", \"reviewText\": \"review\" },inplace=True)\n",
    "\n",
    "# remove duplicates\n",
    "df.drop_duplicates(inplace=True)\n",
    "\n",
    "# remove NAN values and duplicates\n",
    "df.dropna(inplace = True)\n",
    "\n",
    "# cast score from float to string\n",
    "df[\"score\"] = df[\"score\"].apply(lambda x: str(int(x)))"
   ]
  },
  {
   "cell_type": "markdown",
   "metadata": {
    "papermill": {
     "duration": 0.043448,
     "end_time": "2021-04-19T22:46:34.418737",
     "exception": false,
     "start_time": "2021-04-19T22:46:34.375289",
     "status": "completed"
    },
    "tags": []
   },
   "source": [
    "## Visualisation of Data"
   ]
  },
  {
   "cell_type": "markdown",
   "metadata": {
    "papermill": {
     "duration": 0.042218,
     "end_time": "2021-04-19T22:46:34.504644",
     "exception": false,
     "start_time": "2021-04-19T22:46:34.462426",
     "status": "completed"
    },
    "tags": []
   },
   "source": [
    "## Word Cloud"
   ]
  },
  {
   "cell_type": "code",
   "execution_count": 6,
   "metadata": {
    "execution": {
     "iopub.execute_input": "2021-04-19T22:46:34.598970Z",
     "iopub.status.busy": "2021-04-19T22:46:34.598200Z",
     "iopub.status.idle": "2021-04-19T22:46:35.157312Z",
     "shell.execute_reply": "2021-04-19T22:46:35.157989Z"
    },
    "papermill": {
     "duration": 0.608528,
     "end_time": "2021-04-19T22:46:35.158165",
     "exception": false,
     "start_time": "2021-04-19T22:46:34.549637",
     "status": "completed"
    },
    "tags": []
   },
   "outputs": [
    {
     "data": {
      "image/png": "[encoded data removed]",
      "text/plain": [
       "<Figure size 432x288 with 1 Axes>"
      ]
     },
     "metadata": {
      "needs_background": "light"
     },
     "output_type": "display_data"
    }
   ],
   "source": [
    "from wordcloud import WordCloud, STOPWORDS\n",
    "\n",
    "text = DS['reviewText'].values \n",
    "wordcloud = WordCloud().generate(str(text))\n",
    "\n",
    "plt.imshow(wordcloud)\n",
    "plt.axis(\"off\")\n",
    "plt.show()"
   ]
  },
  {
   "cell_type": "markdown",
   "metadata": {
    "papermill": {
     "duration": 0.045262,
     "end_time": "2021-04-19T22:46:35.248719",
     "exception": false,
     "start_time": "2021-04-19T22:46:35.203457",
     "status": "completed"
    },
    "tags": []
   },
   "source": [
    "## Histogram"
   ]
  },
  {
   "cell_type": "code",
   "execution_count": 7,
   "metadata": {
    "execution": {
     "iopub.execute_input": "2021-04-19T22:46:35.445518Z",
     "iopub.status.busy": "2021-04-19T22:46:35.443360Z",
     "iopub.status.idle": "2021-04-19T22:46:35.449404Z",
     "shell.execute_reply": "2021-04-19T22:46:35.448845Z"
    },
    "papermill": {
     "duration": 0.156026,
     "end_time": "2021-04-19T22:46:35.449571",
     "exception": false,
     "start_time": "2021-04-19T22:46:35.293545",
     "status": "completed"
    },
    "tags": []
   },
   "outputs": [],
   "source": [
    "categ = list(range(1,6))\n",
    "frequence = df[\"score\"].value_counts().sort_index().tolist()"
   ]
  },
  {
   "cell_type": "code",
   "execution_count": 8,
   "metadata": {
    "execution": {
     "iopub.execute_input": "2021-04-19T22:46:35.588123Z",
     "iopub.status.busy": "2021-04-19T22:46:35.584141Z",
     "iopub.status.idle": "2021-04-19T22:46:35.769355Z",
     "shell.execute_reply": "2021-04-19T22:46:35.768762Z"
    },
    "papermill": {
     "duration": 0.273709,
     "end_time": "2021-04-19T22:46:35.769504",
     "exception": false,
     "start_time": "2021-04-19T22:46:35.495795",
     "status": "completed"
    },
    "tags": []
   },
   "outputs": [
    {
     "data": {
      "text/plain": [
       "Text(0.5, 1.0, 'Distribution des score')"
      ]
     },
     "execution_count": 8,
     "metadata": {},
     "output_type": "execute_result"
    },
    {
     "data": {
      "image/png": "[encoded data removed]",
      "text/plain": [
       "<Figure size 1080x720 with 1 Axes>"
      ]
     },
     "metadata": {
      "needs_background": "light"
     },
     "output_type": "display_data"
    }
   ],
   "source": [
    "plt.figure(figsize=(15,10))\n",
    "plt.ylabel('Fréquence', fontsize=12)\n",
    "plt.xlabel('Catégorie', fontsize=12)\n",
    "sns.barplot(categ, frequence, color='cadetblue')\n",
    "plt.title('Distribution des score')"
   ]
  },
  {
   "cell_type": "markdown",
   "metadata": {
    "papermill": {
     "duration": 0.044217,
     "end_time": "2021-04-19T22:46:35.859283",
     "exception": false,
     "start_time": "2021-04-19T22:46:35.815066",
     "status": "completed"
    },
    "tags": []
   },
   "source": [
    "## Classe unbalancing\n",
    "\n",
    "we noticed a classe unbalance where note 5 is in 70% of the dataset so to avoid that we took same amount of each classe"
   ]
  },
  {
   "cell_type": "code",
   "execution_count": 9,
   "metadata": {
    "execution": {
     "iopub.execute_input": "2021-04-19T22:46:36.012975Z",
     "iopub.status.busy": "2021-04-19T22:46:36.011502Z",
     "iopub.status.idle": "2021-04-19T22:46:36.338281Z",
     "shell.execute_reply": "2021-04-19T22:46:36.337534Z"
    },
    "papermill": {
     "duration": 0.43523,
     "end_time": "2021-04-19T22:46:36.338481",
     "exception": false,
     "start_time": "2021-04-19T22:46:35.903251",
     "status": "completed"
    },
    "tags": []
   },
   "outputs": [],
   "source": [
    "# due to classes unbalance that tend models to predict a dominant category  \n",
    "# over the other we decided to take the same amount of data from each category \n",
    "# to regularize the generalization of the model\n",
    "\n",
    "df_1 = df[df['score'] == \"1\"][:1000]\n",
    "df_2 = df[df['score'] == \"2\"][:1000]\n",
    "df_3 = df[df['score'] == \"3\"][:1000]\n",
    "df_4 = df[df['score'] == \"4\"][:1000]\n",
    "df_5 = df[df['score'] == \"5\"][:1000]\n",
    "x = [df_1, df_2, df_3,df_4,df_5]\n",
    "df = pd.concat(x)"
   ]
  },
  {
   "cell_type": "markdown",
   "metadata": {
    "papermill": {
     "duration": 0.046701,
     "end_time": "2021-04-19T22:46:36.433025",
     "exception": false,
     "start_time": "2021-04-19T22:46:36.386324",
     "status": "completed"
    },
    "tags": []
   },
   "source": [
    "# Stemming + Lemmarization + removing Stopwords\n"
   ]
  },
  {
   "cell_type": "markdown",
   "metadata": {
    "papermill": {
     "duration": 0.046849,
     "end_time": "2021-04-19T22:46:36.526199",
     "exception": false,
     "start_time": "2021-04-19T22:46:36.479350",
     "status": "completed"
    },
    "tags": []
   },
   "source": [
    "* Stemming est le processus de réduction de l'inflexion des mots à leur forme racine, comme le mappage d'un groupe de mots sur la même racine, même si la racine elle-même n'est pas un mot valide dans la langue.\n",
    "\n",
    "* Lemmatisation : contrairement au Stemming, elle réduit correctement les mots fléchis en s'assurant que le mot racine appartient à la langue. Dans la lemmatisation, le mot racine est appelé Lemme. Un lemme est la forme canonique, la forme du mot dans le dictionnaire ou la forme de citation d'un ensemble de mots.\n",
    "\n",
    "* Stop words: les mots vides sont des mots qui ne contiennent pas de signification importante à utiliser dans les requêtes de recherche. Habituellement, ces mots sont exclus des requêtes de recherche car ils renvoient une grande quantité d'informations inutiles. Chaque langue donne sa propre liste de mots vides à utiliser. voici un exemple des mots vides en la langue anglaise : as, the, be, are, etc."
   ]
  },
  {
   "cell_type": "code",
   "execution_count": 10,
   "metadata": {
    "execution": {
     "iopub.execute_input": "2021-04-19T22:46:36.633631Z",
     "iopub.status.busy": "2021-04-19T22:46:36.632776Z",
     "iopub.status.idle": "2021-04-19T22:47:24.086666Z",
     "shell.execute_reply": "2021-04-19T22:47:24.085875Z"
    },
    "papermill": {
     "duration": 47.512847,
     "end_time": "2021-04-19T22:47:24.086815",
     "exception": false,
     "start_time": "2021-04-19T22:46:36.573968",
     "status": "completed"
    },
    "tags": []
   },
   "outputs": [
    {
     "name": "stdout",
     "output_type": "stream",
     "text": [
      "5000 / 5000\n"
     ]
    }
   ],
   "source": [
    "# preprocessing texts using a function which contains the porter stemmer for stemming \n",
    "# and WordNetLemmatizer for lemmatizing\n",
    "\n",
    "from nltk.stem import PorterStemmer\n",
    "from nltk.stem import WordNetLemmatizer\n",
    "from nltk.corpus import stopwords\n",
    "\n",
    "i = 0\n",
    "def preprocess_text(text):\n",
    "    chars=\"\\n,.\"\n",
    "    for char in chars:\n",
    "        text = text.replace(char,\" \")\n",
    "    text = re.sub(r'[^\\w\\s]', '', str(text).lower().strip())\n",
    "    lst_text = text.split()\n",
    "    lst_stopwords = stopwords.words(\"english\")\n",
    "    lst_text = [word for word in lst_text if word not in lst_stopwords]\n",
    "    ps = PorterStemmer()\n",
    "    lst_text = [ps.stem(word) for word in lst_text]\n",
    "    lem = WordNetLemmatizer()\n",
    "    lst_text = [lem.lemmatize(word) for word in lst_text]\n",
    "    ############\n",
    "    clear_output()\n",
    "    global i\n",
    "    i+=1\n",
    "    print(f'{i} / {df.shape[0]}')\n",
    "    ###############\n",
    "    text = \" \".join(lst_text)\n",
    "    return text\n",
    "\n",
    "\n",
    "df[\"review\"] = df[\"review\"].apply(preprocess_text)  "
   ]
  },
  {
   "cell_type": "markdown",
   "metadata": {
    "papermill": {
     "duration": 0.044065,
     "end_time": "2021-04-19T22:47:24.176562",
     "exception": false,
     "start_time": "2021-04-19T22:47:24.132497",
     "status": "completed"
    },
    "tags": []
   },
   "source": [
    "## Visualisation after removing classe unbalancing"
   ]
  },
  {
   "cell_type": "code",
   "execution_count": 11,
   "metadata": {
    "execution": {
     "iopub.execute_input": "2021-04-19T22:47:24.273722Z",
     "iopub.status.busy": "2021-04-19T22:47:24.272762Z",
     "iopub.status.idle": "2021-04-19T22:47:24.276758Z",
     "shell.execute_reply": "2021-04-19T22:47:24.275985Z"
    },
    "papermill": {
     "duration": 0.057194,
     "end_time": "2021-04-19T22:47:24.276918",
     "exception": false,
     "start_time": "2021-04-19T22:47:24.219724",
     "status": "completed"
    },
    "tags": []
   },
   "outputs": [],
   "source": [
    "categorie = list(range(1,6))\n",
    "freq = df[\"score\"].value_counts().sort_index().tolist()"
   ]
  },
  {
   "cell_type": "code",
   "execution_count": 12,
   "metadata": {
    "execution": {
     "iopub.execute_input": "2021-04-19T22:47:24.391436Z",
     "iopub.status.busy": "2021-04-19T22:47:24.372805Z",
     "iopub.status.idle": "2021-04-19T22:47:24.566019Z",
     "shell.execute_reply": "2021-04-19T22:47:24.566599Z"
    },
    "papermill": {
     "duration": 0.243868,
     "end_time": "2021-04-19T22:47:24.566819",
     "exception": false,
     "start_time": "2021-04-19T22:47:24.322951",
     "status": "completed"
    },
    "tags": []
   },
   "outputs": [
    {
     "data": {
      "text/plain": [
       "Text(0.5, 1.0, 'Distribution des score')"
      ]
     },
     "execution_count": 12,
     "metadata": {},
     "output_type": "execute_result"
    },
    {
     "data": {
      "image/png": "[encoded data removed]",
      "text/plain": [
       "<Figure size 1080x720 with 1 Axes>"
      ]
     },
     "metadata": {
      "needs_background": "light"
     },
     "output_type": "display_data"
    }
   ],
   "source": [
    "# Visualisation of the categories frequency\n",
    "\n",
    "plt.figure(figsize=(15,10))\n",
    "plt.ylabel('Fréquence', fontsize=12)\n",
    "plt.xlabel('Catégorie', fontsize=12)\n",
    "sns.barplot(categorie, freq, color='cadetblue')\n",
    "plt.title('Distribution des score')"
   ]
  },
  {
   "cell_type": "markdown",
   "metadata": {
    "papermill": {
     "duration": 0.04789,
     "end_time": "2021-04-19T22:47:24.663614",
     "exception": false,
     "start_time": "2021-04-19T22:47:24.615724",
     "status": "completed"
    },
    "tags": []
   },
   "source": [
    "# Spliting dataset to train and test"
   ]
  },
  {
   "cell_type": "code",
   "execution_count": 13,
   "metadata": {
    "execution": {
     "iopub.execute_input": "2021-04-19T22:47:24.766625Z",
     "iopub.status.busy": "2021-04-19T22:47:24.765538Z",
     "iopub.status.idle": "2021-04-19T22:47:24.770784Z",
     "shell.execute_reply": "2021-04-19T22:47:24.770242Z"
    },
    "papermill": {
     "duration": 0.059412,
     "end_time": "2021-04-19T22:47:24.770956",
     "exception": false,
     "start_time": "2021-04-19T22:47:24.711544",
     "status": "completed"
    },
    "tags": []
   },
   "outputs": [],
   "source": [
    "## split dataset : 30 % for test and 70% for training\n",
    "\n",
    "df_train, df_test = model_selection.train_test_split(df, test_size=0.3)\n",
    "\n",
    "## get target\n",
    "y_train = df_train[\"score\"].values\n",
    "y_test = df_test[\"score\"].values"
   ]
  },
  {
   "cell_type": "markdown",
   "metadata": {
    "papermill": {
     "duration": 0.046799,
     "end_time": "2021-04-19T22:47:24.865110",
     "exception": false,
     "start_time": "2021-04-19T22:47:24.818311",
     "status": "completed"
    },
    "tags": []
   },
   "source": [
    "# Feature Extraction Applying TFIDF"
   ]
  },
  {
   "cell_type": "markdown",
   "metadata": {
    "papermill": {
     "duration": 0.046419,
     "end_time": "2021-04-19T22:47:24.958541",
     "exception": false,
     "start_time": "2021-04-19T22:47:24.912122",
     "status": "completed"
    },
    "tags": []
   },
   "source": [
    "Le TF-IDF (en anglais term frequency-inverse document frequency) est une méthode de pondération souvent utilisée en recherche d'information et en particulier dans la fouille de textes. Cette mesure statistique permet d'évaluer l'importance d'un terme contenu dans un document, relativement à une collection ou un corpus. Le poids augmente proportionnellement au nombre d'occurrences du mot dans le document. Il varie également en fonction de la fréquence du mot dans le corpus. \n",
    "                                   \n",
    "                                    W(d, t) = TF(d, t) ∗ log( N d f(t) )"
   ]
  },
  {
   "cell_type": "code",
   "execution_count": 14,
   "metadata": {
    "execution": {
     "iopub.execute_input": "2021-04-19T22:47:25.076369Z",
     "iopub.status.busy": "2021-04-19T22:47:25.071266Z",
     "iopub.status.idle": "2021-04-19T22:47:28.830475Z",
     "shell.execute_reply": "2021-04-19T22:47:28.829868Z"
    },
    "papermill": {
     "duration": 3.825748,
     "end_time": "2021-04-19T22:47:28.830639",
     "exception": false,
     "start_time": "2021-04-19T22:47:25.004891",
     "status": "completed"
    },
    "tags": []
   },
   "outputs": [],
   "source": [
    "from sklearn.feature_extraction.text import TfidfVectorizer\n",
    "\n",
    "vectorizer = TfidfVectorizer(max_features=10000, ngram_range=(1,2))\n",
    "\n",
    "vectorizer.fit(df[\"review\"])\n",
    "\n",
    "X_train = vectorizer.transform(df_train[\"review\"])\n",
    "\n",
    "X_test = vectorizer.transform(df_test[\"review\"])"
   ]
  },
  {
   "cell_type": "markdown",
   "metadata": {
    "papermill": {
     "duration": 0.045536,
     "end_time": "2021-04-19T22:47:28.923075",
     "exception": false,
     "start_time": "2021-04-19T22:47:28.877539",
     "status": "completed"
    },
    "tags": []
   },
   "source": [
    "# Word2Vec"
   ]
  },
  {
   "cell_type": "markdown",
   "metadata": {
    "papermill": {
     "duration": 0.045204,
     "end_time": "2021-04-19T22:47:29.015243",
     "exception": false,
     "start_time": "2021-04-19T22:47:28.970039",
     "status": "completed"
    },
    "tags": []
   },
   "source": [
    "Les modèles en sac de mots a comme Tf-Idf  se concentre juste sur la représentation syntaxique de mots (e.g. “This is good” and “Is this good”ont exactement le même représentation vectorielle).En revanche word embedding comme le word2vec apporte la signification sémantique du mot par exemple  les mots “airplane”, “aeroplane”, “plane”, and “aircraft” sont souvent utilisés dans le même contexte."
   ]
  },
  {
   "cell_type": "code",
   "execution_count": 15,
   "metadata": {
    "execution": {
     "iopub.execute_input": "2021-04-19T22:47:29.139313Z",
     "iopub.status.busy": "2021-04-19T22:47:29.128999Z",
     "iopub.status.idle": "2021-04-19T22:47:37.775685Z",
     "shell.execute_reply": "2021-04-19T22:47:37.776242Z"
    },
    "papermill": {
     "duration": 8.713806,
     "end_time": "2021-04-19T22:47:37.776512",
     "exception": false,
     "start_time": "2021-04-19T22:47:29.062706",
     "status": "completed"
    },
    "tags": []
   },
   "outputs": [],
   "source": [
    "corpus = df_train[\"review\"]\n",
    "\n",
    "## create a list of lists of unigrams\n",
    "lst_corpus = []\n",
    "for string in corpus:\n",
    "   lst_words = string.split()\n",
    "   lst_grams = [\" \".join(lst_words[i:i+1]) for i in range(0, len(lst_words), 1)]\n",
    "   lst_corpus.append(lst_grams)\n",
    "\n",
    "## detect bigrams and trigrams\n",
    "bigrams_detector = gensim.models.phrases.Phrases(lst_corpus,delimiter=\" \".encode(), min_count=5, threshold=10)\n",
    "bigrams_detector = gensim.models.phrases.Phraser(bigrams_detector)\n",
    "trigrams_detector = gensim.models.phrases.Phrases(bigrams_detector[lst_corpus],delimiter=\" \".encode(), min_count=5, threshold=10)\n",
    "trigrams_detector = gensim.models.phrases.Phraser(trigrams_detector)"
   ]
  },
  {
   "cell_type": "code",
   "execution_count": 16,
   "metadata": {
    "execution": {
     "iopub.execute_input": "2021-04-19T22:47:37.930106Z",
     "iopub.status.busy": "2021-04-19T22:47:37.926457Z",
     "iopub.status.idle": "2021-04-19T22:49:35.908598Z",
     "shell.execute_reply": "2021-04-19T22:49:35.909152Z"
    },
    "papermill": {
     "duration": 118.062129,
     "end_time": "2021-04-19T22:49:35.909389",
     "exception": false,
     "start_time": "2021-04-19T22:47:37.847260",
     "status": "completed"
    },
    "tags": []
   },
   "outputs": [],
   "source": [
    "## fit w2v\n",
    "## window = 8 : get 8 words of context\n",
    "## sg : using skip-gram method\n",
    "\n",
    "nlp = gensim.models.word2vec.Word2Vec(lst_corpus, size=300,   \n",
    "            window=8, min_count=1, sg=1, iter=30)"
   ]
  },
  {
   "cell_type": "markdown",
   "metadata": {
    "papermill": {
     "duration": 0.047015,
     "end_time": "2021-04-19T22:49:36.004607",
     "exception": false,
     "start_time": "2021-04-19T22:49:35.957592",
     "status": "completed"
    },
    "tags": []
   },
   "source": [
    "# Machine Learning"
   ]
  },
  {
   "cell_type": "markdown",
   "metadata": {
    "papermill": {
     "duration": 0.046102,
     "end_time": "2021-04-19T22:49:36.097397",
     "exception": false,
     "start_time": "2021-04-19T22:49:36.051295",
     "status": "completed"
    },
    "tags": []
   },
   "source": [
    "we will test few machine learning classifiers "
   ]
  },
  {
   "cell_type": "code",
   "execution_count": 17,
   "metadata": {
    "execution": {
     "iopub.execute_input": "2021-04-19T22:49:36.201176Z",
     "iopub.status.busy": "2021-04-19T22:49:36.200106Z",
     "iopub.status.idle": "2021-04-19T22:49:41.499032Z",
     "shell.execute_reply": "2021-04-19T22:49:41.500383Z"
    },
    "papermill": {
     "duration": 5.35712,
     "end_time": "2021-04-19T22:49:41.500682",
     "exception": false,
     "start_time": "2021-04-19T22:49:36.143562",
     "status": "completed"
    },
    "tags": []
   },
   "outputs": [
    {
     "name": "stdout",
     "output_type": "stream",
     "text": [
      "Modèle : SGDClassifier()\n",
      "\n",
      "Testing accuracy of 48.66666666666667 %\n",
      "Testing F1 score: 0.48141142245207386\n",
      "---------------------------------------------------------------------------\n",
      "\n",
      "Modèle : KNeighborsClassifier()\n",
      "\n",
      "Testing accuracy of 21.2 %\n",
      "Testing F1 score: 0.13036775752071442\n",
      "---------------------------------------------------------------------------\n",
      "\n",
      "Modèle : DecisionTreeClassifier()\n",
      "\n",
      "Testing accuracy of 32.4 %\n",
      "Testing F1 score: 0.3208103876603003\n",
      "---------------------------------------------------------------------------\n",
      "\n",
      "Modèle : LinearSVC()\n",
      "\n",
      "Testing accuracy of 49.13333333333333 %\n",
      "Testing F1 score: 0.48573445545027294\n",
      "---------------------------------------------------------------------------\n",
      "\n",
      "Modèle : BernoulliNB()\n",
      "\n",
      "Testing accuracy of 41.4 %\n",
      "Testing F1 score: 0.383117076776972\n",
      "---------------------------------------------------------------------------\n",
      "\n",
      "Modèle : MultinomialNB()\n",
      "\n",
      "Testing accuracy of 50.73333333333333 %\n",
      "Testing F1 score: 0.5053139155348172\n",
      "---------------------------------------------------------------------------\n",
      "\n",
      "Modèle : LogisticRegression()\n",
      "\n",
      "Testing accuracy of 50.93333333333333 %\n",
      "Testing F1 score: 0.5011395883881126\n",
      "---------------------------------------------------------------------------\n",
      "\n"
     ]
    }
   ],
   "source": [
    "from sklearn.linear_model import SGDClassifier\n",
    "from sklearn.neighbors import KNeighborsClassifier\n",
    "from sklearn.linear_model import LogisticRegression\n",
    "from sklearn.tree import DecisionTreeClassifier\n",
    "from sklearn.svm import LinearSVC\n",
    "from sklearn.naive_bayes import BernoulliNB\n",
    "from sklearn.naive_bayes import MultinomialNB\n",
    "from sklearn.metrics import accuracy_score\n",
    "from sklearn.metrics import f1_score\n",
    "\n",
    "pred = 0\n",
    "\n",
    "def evaluate_model(classifieur, xtrain, ytrain, xtest, ytest):\n",
    "    score = []\n",
    "    for clf in classifieur:\n",
    "        clf.fit(xtrain, ytrain)\n",
    "        predicted = clf.predict(xtest)\n",
    "        acc = accuracy_score(ytest, predicted)*100\n",
    "        score.append(acc)\n",
    "        global pred\n",
    "        pred = predicted\n",
    "        print('Modèle : %s\\n' % clf)\n",
    "        print('Testing accuracy of %s' % acc,'%')\n",
    "        print('Testing F1 score: {}'.format(f1_score(ytest, predicted, average='weighted')))   \n",
    "        print('---------------------------------------------------------------------------\\n')\n",
    "        \n",
    "    return score\n",
    "\n",
    "\n",
    "models = [SGDClassifier(), KNeighborsClassifier(), DecisionTreeClassifier(), LinearSVC(),BernoulliNB(), MultinomialNB(),LogisticRegression()]\n",
    "score = evaluate_model(models, X_train, y_train , X_test, y_test)"
   ]
  },
  {
   "cell_type": "code",
   "execution_count": 18,
   "metadata": {
    "execution": {
     "iopub.execute_input": "2021-04-19T22:49:41.654315Z",
     "iopub.status.busy": "2021-04-19T22:49:41.652767Z",
     "iopub.status.idle": "2021-04-19T22:49:41.887790Z",
     "shell.execute_reply": "2021-04-19T22:49:41.887278Z"
    },
    "papermill": {
     "duration": 0.301004,
     "end_time": "2021-04-19T22:49:41.888074",
     "exception": false,
     "start_time": "2021-04-19T22:49:41.587070",
     "status": "completed"
    },
    "tags": []
   },
   "outputs": [
    {
     "data": {
      "text/plain": [
       "(array([0.5, 1.5, 2.5, 3.5, 4.5]),\n",
       " [Text(0, 0.5, '1'),\n",
       "  Text(0, 1.5, '2'),\n",
       "  Text(0, 2.5, '3'),\n",
       "  Text(0, 3.5, '4'),\n",
       "  Text(0, 4.5, '5')])"
      ]
     },
     "execution_count": 18,
     "metadata": {},
     "output_type": "execute_result"
    },
    {
     "data": {
      "image/png": "[encoded data removed]",
      "text/plain": [
       "<Figure size 432x288 with 1 Axes>"
      ]
     },
     "metadata": {
      "needs_background": "light"
     },
     "output_type": "display_data"
    }
   ],
   "source": [
    "## Plot confusion matrix\n",
    "cm = metrics.confusion_matrix(y_test, pred)\n",
    "fig, ax = plt.subplots()\n",
    "sns.heatmap(cm, annot=True, fmt='d', ax=ax, cmap=plt.cm.Blues, \n",
    "            cbar=False)\n",
    "ax.set(xlabel=\"Pred\", ylabel=\"True\", xticklabels=categorie, \n",
    "       yticklabels=categorie, title=\"Confusion matrix\")\n",
    "plt.yticks(rotation=0)"
   ]
  },
  {
   "cell_type": "markdown",
   "metadata": {
    "papermill": {
     "duration": 0.053135,
     "end_time": "2021-04-19T22:49:41.993183",
     "exception": false,
     "start_time": "2021-04-19T22:49:41.940048",
     "status": "completed"
    },
    "tags": []
   },
   "source": [
    "On remarque une confusion entre la catégorie 1 et 2 "
   ]
  },
  {
   "cell_type": "markdown",
   "metadata": {
    "papermill": {
     "duration": 0.05088,
     "end_time": "2021-04-19T22:49:42.096316",
     "exception": false,
     "start_time": "2021-04-19T22:49:42.045436",
     "status": "completed"
    },
    "tags": []
   },
   "source": [
    "# Visualisation"
   ]
  },
  {
   "cell_type": "code",
   "execution_count": 19,
   "metadata": {
    "execution": {
     "iopub.execute_input": "2021-04-19T22:49:42.271046Z",
     "iopub.status.busy": "2021-04-19T22:49:42.234548Z",
     "iopub.status.idle": "2021-04-19T22:49:42.402814Z",
     "shell.execute_reply": "2021-04-19T22:49:42.402280Z"
    },
    "papermill": {
     "duration": 0.253447,
     "end_time": "2021-04-19T22:49:42.402992",
     "exception": false,
     "start_time": "2021-04-19T22:49:42.149545",
     "status": "completed"
    },
    "tags": []
   },
   "outputs": [
    {
     "data": {
      "image/png": "[encoded data removed]",
      "text/plain": [
       "<Figure size 720x432 with 1 Axes>"
      ]
     },
     "metadata": {
      "needs_background": "light"
     },
     "output_type": "display_data"
    }
   ],
   "source": [
    "labels = ['SGD', 'KNN', 'LogisticRegression', 'DecisionTree', 'LinearSVC','BernoulliNB', 'MultinomialNB']\n",
    "\n",
    "fig=plt.figure(figsize=(10,6))\n",
    "\"\"\"\n",
    "plt.xlabel('classifiers')\n",
    "plt.ylabel('accuracy')\n",
    "plt.plot(labels, score)\n",
    "plt.title('classifiers')\n",
    "plt.show()\n",
    "\"\"\"\n",
    "ax = fig.add_axes([0,0,1,1])\n",
    "ax.bar(labels,score)\n",
    "plt.show()"
   ]
  },
  {
   "cell_type": "markdown",
   "metadata": {
    "papermill": {
     "duration": 0.051952,
     "end_time": "2021-04-19T22:49:42.508822",
     "exception": false,
     "start_time": "2021-04-19T22:49:42.456870",
     "status": "completed"
    },
    "tags": []
   },
   "source": [
    "# Model selection / GridSearch Hyperparameters"
   ]
  },
  {
   "cell_type": "code",
   "execution_count": 20,
   "metadata": {
    "execution": {
     "iopub.execute_input": "2021-04-19T22:49:42.621772Z",
     "iopub.status.busy": "2021-04-19T22:49:42.621108Z",
     "iopub.status.idle": "2021-04-19T22:49:42.625787Z",
     "shell.execute_reply": "2021-04-19T22:49:42.626672Z"
    },
    "papermill": {
     "duration": 0.064602,
     "end_time": "2021-04-19T22:49:42.626864",
     "exception": false,
     "start_time": "2021-04-19T22:49:42.562262",
     "status": "completed"
    },
    "tags": []
   },
   "outputs": [],
   "source": [
    "from sklearn.pipeline import Pipeline\n",
    "from sklearn.feature_extraction.text import TfidfTransformer\n",
    "from sklearn.naive_bayes import MultinomialNB\n",
    "\n",
    "text_clf = Pipeline([('vect', vectorizer),\n",
    "                     ('clf', MultinomialNB()),\n",
    "                    ])"
   ]
  },
  {
   "cell_type": "markdown",
   "metadata": {
    "papermill": {
     "duration": 0.05114,
     "end_time": "2021-04-19T22:49:42.730568",
     "exception": false,
     "start_time": "2021-04-19T22:49:42.679428",
     "status": "completed"
    },
    "tags": []
   },
   "source": [
    "On souhaiterait utiliser un GridSearch afin de trouver les bon hyperparametre  pour chaque modele et pour quoi pas un cross-validation pour la selection du modéle"
   ]
  },
  {
   "cell_type": "code",
   "execution_count": 21,
   "metadata": {
    "execution": {
     "iopub.execute_input": "2021-04-19T22:49:42.843656Z",
     "iopub.status.busy": "2021-04-19T22:49:42.842899Z",
     "iopub.status.idle": "2021-04-19T22:49:45.490854Z",
     "shell.execute_reply": "2021-04-19T22:49:45.489796Z"
    },
    "papermill": {
     "duration": 2.709387,
     "end_time": "2021-04-19T22:49:45.491044",
     "exception": false,
     "start_time": "2021-04-19T22:49:42.781657",
     "status": "completed"
    },
    "tags": []
   },
   "outputs": [
    {
     "ename": "AttributeError",
     "evalue": "lower not found",
     "output_type": "error",
     "traceback": [
      "\u001b[0;31m---------------------------------------------------------------------------\u001b[0m",
      "\u001b[0;31mAttributeError\u001b[0m                            Traceback (most recent call last)",
      "\u001b[0;32m<ipython-input-21-ef16087c3a7f>\u001b[0m in \u001b[0;36m<module>\u001b[0;34m\u001b[0m\n\u001b[1;32m      4\u001b[0m \u001b[0;34m\u001b[0m\u001b[0m\n\u001b[1;32m      5\u001b[0m \u001b[0mgs_clf\u001b[0m \u001b[0;34m=\u001b[0m \u001b[0mGridSearchCV\u001b[0m\u001b[0;34m(\u001b[0m\u001b[0mtext_clf\u001b[0m\u001b[0;34m,\u001b[0m \u001b[0mparameters\u001b[0m\u001b[0;34m,\u001b[0m \u001b[0mn_jobs\u001b[0m\u001b[0;34m=\u001b[0m\u001b[0;34m-\u001b[0m\u001b[0;36m1\u001b[0m\u001b[0;34m)\u001b[0m\u001b[0;34m\u001b[0m\u001b[0;34m\u001b[0m\u001b[0m\n\u001b[0;32m----> 6\u001b[0;31m \u001b[0mgs_clf\u001b[0m \u001b[0;34m=\u001b[0m \u001b[0mgs_clf\u001b[0m\u001b[0;34m.\u001b[0m\u001b[0mfit\u001b[0m\u001b[0;34m(\u001b[0m\u001b[0mX_train\u001b[0m\u001b[0;34m,\u001b[0m \u001b[0my_train\u001b[0m\u001b[0;34m)\u001b[0m\u001b[0;34m\u001b[0m\u001b[0;34m\u001b[0m\u001b[0m\n\u001b[0m",
      "\u001b[0;32m/opt/conda/lib/python3.7/site-packages/sklearn/utils/validation.py\u001b[0m in \u001b[0;36minner_f\u001b[0;34m(*args, **kwargs)\u001b[0m\n\u001b[1;32m     61\u001b[0m             \u001b[0mextra_args\u001b[0m \u001b[0;34m=\u001b[0m \u001b[0mlen\u001b[0m\u001b[0;34m(\u001b[0m\u001b[0margs\u001b[0m\u001b[0;34m)\u001b[0m \u001b[0;34m-\u001b[0m \u001b[0mlen\u001b[0m\u001b[0;34m(\u001b[0m\u001b[0mall_args\u001b[0m\u001b[0;34m)\u001b[0m\u001b[0;34m\u001b[0m\u001b[0;34m\u001b[0m\u001b[0m\n\u001b[1;32m     62\u001b[0m             \u001b[0;32mif\u001b[0m \u001b[0mextra_args\u001b[0m \u001b[0;34m<=\u001b[0m \u001b[0;36m0\u001b[0m\u001b[0;34m:\u001b[0m\u001b[0;34m\u001b[0m\u001b[0;34m\u001b[0m\u001b[0m\n\u001b[0;32m---> 63\u001b[0;31m                 \u001b[0;32mreturn\u001b[0m \u001b[0mf\u001b[0m\u001b[0;34m(\u001b[0m\u001b[0;34m*\u001b[0m\u001b[0margs\u001b[0m\u001b[0;34m,\u001b[0m \u001b[0;34m**\u001b[0m\u001b[0mkwargs\u001b[0m\u001b[0;34m)\u001b[0m\u001b[0;34m\u001b[0m\u001b[0;34m\u001b[0m\u001b[0m\n\u001b[0m\u001b[1;32m     64\u001b[0m \u001b[0;34m\u001b[0m\u001b[0m\n\u001b[1;32m     65\u001b[0m             \u001b[0;31m# extra_args > 0\u001b[0m\u001b[0;34m\u001b[0m\u001b[0;34m\u001b[0m\u001b[0;34m\u001b[0m\u001b[0m\n",
      "\u001b[0;32m/opt/conda/lib/python3.7/site-packages/sklearn/model_selection/_search.py\u001b[0m in \u001b[0;36mfit\u001b[0;34m(self, X, y, groups, **fit_params)\u001b[0m\n\u001b[1;32m    878\u001b[0m             \u001b[0mrefit_start_time\u001b[0m \u001b[0;34m=\u001b[0m \u001b[0mtime\u001b[0m\u001b[0;34m.\u001b[0m\u001b[0mtime\u001b[0m\u001b[0;34m(\u001b[0m\u001b[0;34m)\u001b[0m\u001b[0;34m\u001b[0m\u001b[0;34m\u001b[0m\u001b[0m\n\u001b[1;32m    879\u001b[0m             \u001b[0;32mif\u001b[0m \u001b[0my\u001b[0m \u001b[0;32mis\u001b[0m \u001b[0;32mnot\u001b[0m \u001b[0;32mNone\u001b[0m\u001b[0;34m:\u001b[0m\u001b[0;34m\u001b[0m\u001b[0;34m\u001b[0m\u001b[0m\n\u001b[0;32m--> 880\u001b[0;31m                 \u001b[0mself\u001b[0m\u001b[0;34m.\u001b[0m\u001b[0mbest_estimator_\u001b[0m\u001b[0;34m.\u001b[0m\u001b[0mfit\u001b[0m\u001b[0;34m(\u001b[0m\u001b[0mX\u001b[0m\u001b[0;34m,\u001b[0m \u001b[0my\u001b[0m\u001b[0;34m,\u001b[0m \u001b[0;34m**\u001b[0m\u001b[0mfit_params\u001b[0m\u001b[0;34m)\u001b[0m\u001b[0;34m\u001b[0m\u001b[0;34m\u001b[0m\u001b[0m\n\u001b[0m\u001b[1;32m    881\u001b[0m             \u001b[0;32melse\u001b[0m\u001b[0;34m:\u001b[0m\u001b[0;34m\u001b[0m\u001b[0;34m\u001b[0m\u001b[0m\n\u001b[1;32m    882\u001b[0m                 \u001b[0mself\u001b[0m\u001b[0;34m.\u001b[0m\u001b[0mbest_estimator_\u001b[0m\u001b[0;34m.\u001b[0m\u001b[0mfit\u001b[0m\u001b[0;34m(\u001b[0m\u001b[0mX\u001b[0m\u001b[0;34m,\u001b[0m \u001b[0;34m**\u001b[0m\u001b[0mfit_params\u001b[0m\u001b[0;34m)\u001b[0m\u001b[0;34m\u001b[0m\u001b[0;34m\u001b[0m\u001b[0m\n",
      "\u001b[0;32m/opt/conda/lib/python3.7/site-packages/sklearn/pipeline.py\u001b[0m in \u001b[0;36mfit\u001b[0;34m(self, X, y, **fit_params)\u001b[0m\n\u001b[1;32m    339\u001b[0m         \"\"\"\n\u001b[1;32m    340\u001b[0m         \u001b[0mfit_params_steps\u001b[0m \u001b[0;34m=\u001b[0m \u001b[0mself\u001b[0m\u001b[0;34m.\u001b[0m\u001b[0m_check_fit_params\u001b[0m\u001b[0;34m(\u001b[0m\u001b[0;34m**\u001b[0m\u001b[0mfit_params\u001b[0m\u001b[0;34m)\u001b[0m\u001b[0;34m\u001b[0m\u001b[0;34m\u001b[0m\u001b[0m\n\u001b[0;32m--> 341\u001b[0;31m         \u001b[0mXt\u001b[0m \u001b[0;34m=\u001b[0m \u001b[0mself\u001b[0m\u001b[0;34m.\u001b[0m\u001b[0m_fit\u001b[0m\u001b[0;34m(\u001b[0m\u001b[0mX\u001b[0m\u001b[0;34m,\u001b[0m \u001b[0my\u001b[0m\u001b[0;34m,\u001b[0m \u001b[0;34m**\u001b[0m\u001b[0mfit_params_steps\u001b[0m\u001b[0;34m)\u001b[0m\u001b[0;34m\u001b[0m\u001b[0;34m\u001b[0m\u001b[0m\n\u001b[0m\u001b[1;32m    342\u001b[0m         with _print_elapsed_time('Pipeline',\n\u001b[1;32m    343\u001b[0m                                  self._log_message(len(self.steps) - 1)):\n",
      "\u001b[0;32m/opt/conda/lib/python3.7/site-packages/sklearn/pipeline.py\u001b[0m in \u001b[0;36m_fit\u001b[0;34m(self, X, y, **fit_params_steps)\u001b[0m\n\u001b[1;32m    305\u001b[0m                 \u001b[0mmessage_clsname\u001b[0m\u001b[0;34m=\u001b[0m\u001b[0;34m'Pipeline'\u001b[0m\u001b[0;34m,\u001b[0m\u001b[0;34m\u001b[0m\u001b[0;34m\u001b[0m\u001b[0m\n\u001b[1;32m    306\u001b[0m                 \u001b[0mmessage\u001b[0m\u001b[0;34m=\u001b[0m\u001b[0mself\u001b[0m\u001b[0;34m.\u001b[0m\u001b[0m_log_message\u001b[0m\u001b[0;34m(\u001b[0m\u001b[0mstep_idx\u001b[0m\u001b[0;34m)\u001b[0m\u001b[0;34m,\u001b[0m\u001b[0;34m\u001b[0m\u001b[0;34m\u001b[0m\u001b[0m\n\u001b[0;32m--> 307\u001b[0;31m                 **fit_params_steps[name])\n\u001b[0m\u001b[1;32m    308\u001b[0m             \u001b[0;31m# Replace the transformer of the step with the fitted\u001b[0m\u001b[0;34m\u001b[0m\u001b[0;34m\u001b[0m\u001b[0;34m\u001b[0m\u001b[0m\n\u001b[1;32m    309\u001b[0m             \u001b[0;31m# transformer. This is necessary when loading the transformer\u001b[0m\u001b[0;34m\u001b[0m\u001b[0;34m\u001b[0m\u001b[0;34m\u001b[0m\u001b[0m\n",
      "\u001b[0;32m/opt/conda/lib/python3.7/site-packages/joblib/memory.py\u001b[0m in \u001b[0;36m__call__\u001b[0;34m(self, *args, **kwargs)\u001b[0m\n\u001b[1;32m    350\u001b[0m \u001b[0;34m\u001b[0m\u001b[0m\n\u001b[1;32m    351\u001b[0m     \u001b[0;32mdef\u001b[0m \u001b[0m__call__\u001b[0m\u001b[0;34m(\u001b[0m\u001b[0mself\u001b[0m\u001b[0;34m,\u001b[0m \u001b[0;34m*\u001b[0m\u001b[0margs\u001b[0m\u001b[0;34m,\u001b[0m \u001b[0;34m**\u001b[0m\u001b[0mkwargs\u001b[0m\u001b[0;34m)\u001b[0m\u001b[0;34m:\u001b[0m\u001b[0;34m\u001b[0m\u001b[0;34m\u001b[0m\u001b[0m\n\u001b[0;32m--> 352\u001b[0;31m         \u001b[0;32mreturn\u001b[0m \u001b[0mself\u001b[0m\u001b[0;34m.\u001b[0m\u001b[0mfunc\u001b[0m\u001b[0;34m(\u001b[0m\u001b[0;34m*\u001b[0m\u001b[0margs\u001b[0m\u001b[0;34m,\u001b[0m \u001b[0;34m**\u001b[0m\u001b[0mkwargs\u001b[0m\u001b[0;34m)\u001b[0m\u001b[0;34m\u001b[0m\u001b[0;34m\u001b[0m\u001b[0m\n\u001b[0m\u001b[1;32m    353\u001b[0m \u001b[0;34m\u001b[0m\u001b[0m\n\u001b[1;32m    354\u001b[0m     \u001b[0;32mdef\u001b[0m \u001b[0mcall_and_shelve\u001b[0m\u001b[0;34m(\u001b[0m\u001b[0mself\u001b[0m\u001b[0;34m,\u001b[0m \u001b[0;34m*\u001b[0m\u001b[0margs\u001b[0m\u001b[0;34m,\u001b[0m \u001b[0;34m**\u001b[0m\u001b[0mkwargs\u001b[0m\u001b[0;34m)\u001b[0m\u001b[0;34m:\u001b[0m\u001b[0;34m\u001b[0m\u001b[0;34m\u001b[0m\u001b[0m\n",
      "\u001b[0;32m/opt/conda/lib/python3.7/site-packages/sklearn/pipeline.py\u001b[0m in \u001b[0;36m_fit_transform_one\u001b[0;34m(transformer, X, y, weight, message_clsname, message, **fit_params)\u001b[0m\n\u001b[1;32m    752\u001b[0m     \u001b[0;32mwith\u001b[0m \u001b[0m_print_elapsed_time\u001b[0m\u001b[0;34m(\u001b[0m\u001b[0mmessage_clsname\u001b[0m\u001b[0;34m,\u001b[0m \u001b[0mmessage\u001b[0m\u001b[0;34m)\u001b[0m\u001b[0;34m:\u001b[0m\u001b[0;34m\u001b[0m\u001b[0;34m\u001b[0m\u001b[0m\n\u001b[1;32m    753\u001b[0m         \u001b[0;32mif\u001b[0m \u001b[0mhasattr\u001b[0m\u001b[0;34m(\u001b[0m\u001b[0mtransformer\u001b[0m\u001b[0;34m,\u001b[0m \u001b[0;34m'fit_transform'\u001b[0m\u001b[0;34m)\u001b[0m\u001b[0;34m:\u001b[0m\u001b[0;34m\u001b[0m\u001b[0;34m\u001b[0m\u001b[0m\n\u001b[0;32m--> 754\u001b[0;31m             \u001b[0mres\u001b[0m \u001b[0;34m=\u001b[0m \u001b[0mtransformer\u001b[0m\u001b[0;34m.\u001b[0m\u001b[0mfit_transform\u001b[0m\u001b[0;34m(\u001b[0m\u001b[0mX\u001b[0m\u001b[0;34m,\u001b[0m \u001b[0my\u001b[0m\u001b[0;34m,\u001b[0m \u001b[0;34m**\u001b[0m\u001b[0mfit_params\u001b[0m\u001b[0;34m)\u001b[0m\u001b[0;34m\u001b[0m\u001b[0;34m\u001b[0m\u001b[0m\n\u001b[0m\u001b[1;32m    755\u001b[0m         \u001b[0;32melse\u001b[0m\u001b[0;34m:\u001b[0m\u001b[0;34m\u001b[0m\u001b[0;34m\u001b[0m\u001b[0m\n\u001b[1;32m    756\u001b[0m             \u001b[0mres\u001b[0m \u001b[0;34m=\u001b[0m \u001b[0mtransformer\u001b[0m\u001b[0;34m.\u001b[0m\u001b[0mfit\u001b[0m\u001b[0;34m(\u001b[0m\u001b[0mX\u001b[0m\u001b[0;34m,\u001b[0m \u001b[0my\u001b[0m\u001b[0;34m,\u001b[0m \u001b[0;34m**\u001b[0m\u001b[0mfit_params\u001b[0m\u001b[0;34m)\u001b[0m\u001b[0;34m.\u001b[0m\u001b[0mtransform\u001b[0m\u001b[0;34m(\u001b[0m\u001b[0mX\u001b[0m\u001b[0;34m)\u001b[0m\u001b[0;34m\u001b[0m\u001b[0;34m\u001b[0m\u001b[0m\n",
      "\u001b[0;32m/opt/conda/lib/python3.7/site-packages/sklearn/feature_extraction/text.py\u001b[0m in \u001b[0;36mfit_transform\u001b[0;34m(self, raw_documents, y)\u001b[0m\n\u001b[1;32m   1848\u001b[0m         \"\"\"\n\u001b[1;32m   1849\u001b[0m         \u001b[0mself\u001b[0m\u001b[0;34m.\u001b[0m\u001b[0m_check_params\u001b[0m\u001b[0;34m(\u001b[0m\u001b[0;34m)\u001b[0m\u001b[0;34m\u001b[0m\u001b[0;34m\u001b[0m\u001b[0m\n\u001b[0;32m-> 1850\u001b[0;31m         \u001b[0mX\u001b[0m \u001b[0;34m=\u001b[0m \u001b[0msuper\u001b[0m\u001b[0;34m(\u001b[0m\u001b[0;34m)\u001b[0m\u001b[0;34m.\u001b[0m\u001b[0mfit_transform\u001b[0m\u001b[0;34m(\u001b[0m\u001b[0mraw_documents\u001b[0m\u001b[0;34m)\u001b[0m\u001b[0;34m\u001b[0m\u001b[0;34m\u001b[0m\u001b[0m\n\u001b[0m\u001b[1;32m   1851\u001b[0m         \u001b[0mself\u001b[0m\u001b[0;34m.\u001b[0m\u001b[0m_tfidf\u001b[0m\u001b[0;34m.\u001b[0m\u001b[0mfit\u001b[0m\u001b[0;34m(\u001b[0m\u001b[0mX\u001b[0m\u001b[0;34m)\u001b[0m\u001b[0;34m\u001b[0m\u001b[0;34m\u001b[0m\u001b[0m\n\u001b[1;32m   1852\u001b[0m         \u001b[0;31m# X is already a transformed view of raw_documents so\u001b[0m\u001b[0;34m\u001b[0m\u001b[0;34m\u001b[0m\u001b[0;34m\u001b[0m\u001b[0m\n",
      "\u001b[0;32m/opt/conda/lib/python3.7/site-packages/sklearn/feature_extraction/text.py\u001b[0m in \u001b[0;36mfit_transform\u001b[0;34m(self, raw_documents, y)\u001b[0m\n\u001b[1;32m   1202\u001b[0m \u001b[0;34m\u001b[0m\u001b[0m\n\u001b[1;32m   1203\u001b[0m         vocabulary, X = self._count_vocab(raw_documents,\n\u001b[0;32m-> 1204\u001b[0;31m                                           self.fixed_vocabulary_)\n\u001b[0m\u001b[1;32m   1205\u001b[0m \u001b[0;34m\u001b[0m\u001b[0m\n\u001b[1;32m   1206\u001b[0m         \u001b[0;32mif\u001b[0m \u001b[0mself\u001b[0m\u001b[0;34m.\u001b[0m\u001b[0mbinary\u001b[0m\u001b[0;34m:\u001b[0m\u001b[0;34m\u001b[0m\u001b[0;34m\u001b[0m\u001b[0m\n",
      "\u001b[0;32m/opt/conda/lib/python3.7/site-packages/sklearn/feature_extraction/text.py\u001b[0m in \u001b[0;36m_count_vocab\u001b[0;34m(self, raw_documents, fixed_vocab)\u001b[0m\n\u001b[1;32m   1113\u001b[0m         \u001b[0;32mfor\u001b[0m \u001b[0mdoc\u001b[0m \u001b[0;32min\u001b[0m \u001b[0mraw_documents\u001b[0m\u001b[0;34m:\u001b[0m\u001b[0;34m\u001b[0m\u001b[0;34m\u001b[0m\u001b[0m\n\u001b[1;32m   1114\u001b[0m             \u001b[0mfeature_counter\u001b[0m \u001b[0;34m=\u001b[0m \u001b[0;34m{\u001b[0m\u001b[0;34m}\u001b[0m\u001b[0;34m\u001b[0m\u001b[0;34m\u001b[0m\u001b[0m\n\u001b[0;32m-> 1115\u001b[0;31m             \u001b[0;32mfor\u001b[0m \u001b[0mfeature\u001b[0m \u001b[0;32min\u001b[0m \u001b[0manalyze\u001b[0m\u001b[0;34m(\u001b[0m\u001b[0mdoc\u001b[0m\u001b[0;34m)\u001b[0m\u001b[0;34m:\u001b[0m\u001b[0;34m\u001b[0m\u001b[0;34m\u001b[0m\u001b[0m\n\u001b[0m\u001b[1;32m   1116\u001b[0m                 \u001b[0;32mtry\u001b[0m\u001b[0;34m:\u001b[0m\u001b[0;34m\u001b[0m\u001b[0;34m\u001b[0m\u001b[0m\n\u001b[1;32m   1117\u001b[0m                     \u001b[0mfeature_idx\u001b[0m \u001b[0;34m=\u001b[0m \u001b[0mvocabulary\u001b[0m\u001b[0;34m[\u001b[0m\u001b[0mfeature\u001b[0m\u001b[0;34m]\u001b[0m\u001b[0;34m\u001b[0m\u001b[0;34m\u001b[0m\u001b[0m\n",
      "\u001b[0;32m/opt/conda/lib/python3.7/site-packages/sklearn/feature_extraction/text.py\u001b[0m in \u001b[0;36m_analyze\u001b[0;34m(doc, analyzer, tokenizer, ngrams, preprocessor, decoder, stop_words)\u001b[0m\n\u001b[1;32m    102\u001b[0m     \u001b[0;32melse\u001b[0m\u001b[0;34m:\u001b[0m\u001b[0;34m\u001b[0m\u001b[0;34m\u001b[0m\u001b[0m\n\u001b[1;32m    103\u001b[0m         \u001b[0;32mif\u001b[0m \u001b[0mpreprocessor\u001b[0m \u001b[0;32mis\u001b[0m \u001b[0;32mnot\u001b[0m \u001b[0;32mNone\u001b[0m\u001b[0;34m:\u001b[0m\u001b[0;34m\u001b[0m\u001b[0;34m\u001b[0m\u001b[0m\n\u001b[0;32m--> 104\u001b[0;31m             \u001b[0mdoc\u001b[0m \u001b[0;34m=\u001b[0m \u001b[0mpreprocessor\u001b[0m\u001b[0;34m(\u001b[0m\u001b[0mdoc\u001b[0m\u001b[0;34m)\u001b[0m\u001b[0;34m\u001b[0m\u001b[0;34m\u001b[0m\u001b[0m\n\u001b[0m\u001b[1;32m    105\u001b[0m         \u001b[0;32mif\u001b[0m \u001b[0mtokenizer\u001b[0m \u001b[0;32mis\u001b[0m \u001b[0;32mnot\u001b[0m \u001b[0;32mNone\u001b[0m\u001b[0;34m:\u001b[0m\u001b[0;34m\u001b[0m\u001b[0;34m\u001b[0m\u001b[0m\n\u001b[1;32m    106\u001b[0m             \u001b[0mdoc\u001b[0m \u001b[0;34m=\u001b[0m \u001b[0mtokenizer\u001b[0m\u001b[0;34m(\u001b[0m\u001b[0mdoc\u001b[0m\u001b[0;34m)\u001b[0m\u001b[0;34m\u001b[0m\u001b[0;34m\u001b[0m\u001b[0m\n",
      "\u001b[0;32m/opt/conda/lib/python3.7/site-packages/sklearn/feature_extraction/text.py\u001b[0m in \u001b[0;36m_preprocess\u001b[0;34m(doc, accent_function, lower)\u001b[0m\n\u001b[1;32m     67\u001b[0m     \"\"\"\n\u001b[1;32m     68\u001b[0m     \u001b[0;32mif\u001b[0m \u001b[0mlower\u001b[0m\u001b[0;34m:\u001b[0m\u001b[0;34m\u001b[0m\u001b[0;34m\u001b[0m\u001b[0m\n\u001b[0;32m---> 69\u001b[0;31m         \u001b[0mdoc\u001b[0m \u001b[0;34m=\u001b[0m \u001b[0mdoc\u001b[0m\u001b[0;34m.\u001b[0m\u001b[0mlower\u001b[0m\u001b[0;34m(\u001b[0m\u001b[0;34m)\u001b[0m\u001b[0;34m\u001b[0m\u001b[0;34m\u001b[0m\u001b[0m\n\u001b[0m\u001b[1;32m     70\u001b[0m     \u001b[0;32mif\u001b[0m \u001b[0maccent_function\u001b[0m \u001b[0;32mis\u001b[0m \u001b[0;32mnot\u001b[0m \u001b[0;32mNone\u001b[0m\u001b[0;34m:\u001b[0m\u001b[0;34m\u001b[0m\u001b[0;34m\u001b[0m\u001b[0m\n\u001b[1;32m     71\u001b[0m         \u001b[0mdoc\u001b[0m \u001b[0;34m=\u001b[0m \u001b[0maccent_function\u001b[0m\u001b[0;34m(\u001b[0m\u001b[0mdoc\u001b[0m\u001b[0;34m)\u001b[0m\u001b[0;34m\u001b[0m\u001b[0;34m\u001b[0m\u001b[0m\n",
      "\u001b[0;32m/opt/conda/lib/python3.7/site-packages/scipy/sparse/base.py\u001b[0m in \u001b[0;36m__getattr__\u001b[0;34m(self, attr)\u001b[0m\n\u001b[1;32m    685\u001b[0m             \u001b[0;32mreturn\u001b[0m \u001b[0mself\u001b[0m\u001b[0;34m.\u001b[0m\u001b[0mgetnnz\u001b[0m\u001b[0;34m(\u001b[0m\u001b[0;34m)\u001b[0m\u001b[0;34m\u001b[0m\u001b[0;34m\u001b[0m\u001b[0m\n\u001b[1;32m    686\u001b[0m         \u001b[0;32melse\u001b[0m\u001b[0;34m:\u001b[0m\u001b[0;34m\u001b[0m\u001b[0;34m\u001b[0m\u001b[0m\n\u001b[0;32m--> 687\u001b[0;31m             \u001b[0;32mraise\u001b[0m \u001b[0mAttributeError\u001b[0m\u001b[0;34m(\u001b[0m\u001b[0mattr\u001b[0m \u001b[0;34m+\u001b[0m \u001b[0;34m\" not found\"\u001b[0m\u001b[0;34m)\u001b[0m\u001b[0;34m\u001b[0m\u001b[0;34m\u001b[0m\u001b[0m\n\u001b[0m\u001b[1;32m    688\u001b[0m \u001b[0;34m\u001b[0m\u001b[0m\n\u001b[1;32m    689\u001b[0m     \u001b[0;32mdef\u001b[0m \u001b[0mtranspose\u001b[0m\u001b[0;34m(\u001b[0m\u001b[0mself\u001b[0m\u001b[0;34m,\u001b[0m \u001b[0maxes\u001b[0m\u001b[0;34m=\u001b[0m\u001b[0;32mNone\u001b[0m\u001b[0;34m,\u001b[0m \u001b[0mcopy\u001b[0m\u001b[0;34m=\u001b[0m\u001b[0;32mFalse\u001b[0m\u001b[0;34m)\u001b[0m\u001b[0;34m:\u001b[0m\u001b[0;34m\u001b[0m\u001b[0;34m\u001b[0m\u001b[0m\n",
      "\u001b[0;31mAttributeError\u001b[0m: lower not found"
     ]
    }
   ],
   "source": [
    "from sklearn.model_selection import GridSearchCV\n",
    "parameters = {'vect__ngram_range': [(1, 1), (1, 2)],\n",
    "                'clf__alpha': (1e-2, 1e-3),}\n",
    "\n",
    "gs_clf = GridSearchCV(text_clf, parameters, n_jobs=-1)\n",
    "gs_clf = gs_clf.fit(X_train, y_train)"
   ]
  },
  {
   "cell_type": "markdown",
   "metadata": {
    "papermill": {
     "duration": 0.050454,
     "end_time": "2021-04-19T22:49:45.632234",
     "exception": false,
     "start_time": "2021-04-19T22:49:45.581780",
     "status": "completed"
    },
    "tags": []
   },
   "source": [
    "# Results discussion"
   ]
  },
  {
   "cell_type": "markdown",
   "metadata": {
    "papermill": {
     "duration": 0.049928,
     "end_time": "2021-04-19T22:49:45.732740",
     "exception": false,
     "start_time": "2021-04-19T22:49:45.682812",
     "status": "completed"
    },
    "tags": []
   },
   "source": [
    "- En comparent les differentes classifiers, on remarque qu'aucun modele a depasé 60% de precision,peu etre la raison  est l'utilisation d'une partie du jeux de données (pour eviter le probleme du temps d'excution longue) donc les modeles ont pas bien appris a cause de manque de donnée, la 2 eme raison peut etre les parametres par default des classifiers ou les caracteristques des vecteurs (td-idf) qui sont pas pertients , les modeles qui ont donné la meilleure valeur de precision sont Logistic Regression,MultinomialNB,Stochastic Gradient Descent respectivement,le KNN Aa donné la mauvaise precision par rapport aux autre classifieur."
   ]
  },
  {
   "cell_type": "markdown",
   "metadata": {
    "papermill": {
     "duration": 0.048803,
     "end_time": "2021-04-19T22:49:45.831748",
     "exception": false,
     "start_time": "2021-04-19T22:49:45.782945",
     "status": "completed"
    },
    "tags": []
   },
   "source": [
    "# Conclusion and perspectives"
   ]
  },
  {
   "cell_type": "markdown",
   "metadata": {
    "papermill": {
     "duration": 0.049317,
     "end_time": "2021-04-19T22:49:45.931492",
     "exception": false,
     "start_time": "2021-04-19T22:49:45.882175",
     "status": "completed"
    },
    "tags": []
   },
   "source": [
    "Durant ce projet nous avons pu découvrir le domaine du Naturel Language Processing et le Data mining, on a utilisé toutes les phases d'un projet Machine learning de la préparation des données jusqu'a la prédiction avec le modéle final, On aurait pu utiliser Bert comme méthode d'extraction de données, un modéle puissant se basant sur les transformers, qui représente l'etat de l'art en terme de traitement du langage naturel, faute de temps mais on va quand meme developper ce projet juste pour satisfaire notre curiosité."
   ]
  }
 ],
 "metadata": {
  "kernelspec": {
   "display_name": "Python 3",
   "language": "python",
   "name": "python3"
  },
  "language_info": {
   "codemirror_mode": {
    "name": "ipython",
    "version": 3
   },
   "file_extension": ".py",
   "mimetype": "text/x-python",
   "name": "python",
   "nbconvert_exporter": "python",
   "pygments_lexer": "ipython3",
   "version": "3.7.9"
  },
  "papermill": {
   "default_parameters": {},
   "duration": 241.515053,
   "end_time": "2021-04-19T22:49:49.106273",
   "environment_variables": {},
   "exception": null,
   "input_path": "__notebook__.ipynb",
   "output_path": "__notebook__.ipynb",
   "parameters": {},
   "start_time": "2021-04-19T22:45:47.591220",
   "version": "2.2.2"
  }
 },
 "nbformat": 4,
 "nbformat_minor": 4
}
